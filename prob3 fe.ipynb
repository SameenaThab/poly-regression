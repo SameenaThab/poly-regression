{
 "cells": [
  {
   "cell_type": "code",
   "execution_count": 185,
   "metadata": {
    "collapsed": false
   },
   "outputs": [],
   "source": [
    "import math\n",
    "import numpy as np\n",
    "import matplotlib.pyplot as plt\n",
    "from numpy.linalg import inv\n",
    "import matplotlib.patches as mpatches\n"
   ]
  },
  {
   "cell_type": "markdown",
   "metadata": {},
   "source": [
    "For a one feature dataset, I have taken a 2D curve following the function f(x)=cos(x)+sin(x/2)"
   ]
  },
  {
   "cell_type": "code",
   "execution_count": 119,
   "metadata": {
    "collapsed": true
   },
   "outputs": [],
   "source": [
    "def fun_y(x):\n",
    "    return math.cos(x)+math.sin(x/2)"
   ]
  },
  {
   "cell_type": "code",
   "execution_count": 141,
   "metadata": {
    "collapsed": false
   },
   "outputs": [],
   "source": [
    "trainx=np.arange(1,20,dtype='int64')\n",
    "testx=np.arange(20,25,dtype='int64')\n",
    "trainy=[fun_y(val) for val in trainx]\n",
    "testy=[fun_y(val) for val in testx]"
   ]
  },
  {
   "cell_type": "code",
   "execution_count": 142,
   "metadata": {
    "collapsed": false
   },
   "outputs": [
    {
     "name": "stdout",
     "output_type": "stream",
     "text": [
      "[1.0197278444723428, 0.4253241482607541, 0.00750249000360903, 0.25565380596206977, 0.8821343295671829, 1.1012902947102332, 0.40311902665368476, -0.9023025291165417, -1.888660379549774, -1.797995803739591, -0.7011146275823411, 0.5644384605335663, 1.1225667695380117, 0.7937238169266226, 0.17831206391591758, 0.03169876629999713, 0.5233237745718933, 1.0724351934858367, 0.9135534977248599]\n",
      "[-0.13593904907597776, -1.4274250201959384, -1.9999510329453405, -1.408285195021826, -0.11239391066343796]\n"
     ]
    }
   ],
   "source": [
    "print(trainy)\n",
    "print(testy)"
   ]
  },
  {
   "cell_type": "markdown",
   "metadata": {},
   "source": [
    "Plot of traindata"
   ]
  },
  {
   "cell_type": "code",
   "execution_count": 143,
   "metadata": {
    "collapsed": false
   },
   "outputs": [
    {
     "data": {
      "image/png": "[encoded data removed]",
      "text/plain": [
       "<matplotlib.figure.Figure at 0x5015911c18>"
      ]
     },
     "metadata": {},
     "output_type": "display_data"
    }
   ],
   "source": [
    "plt.plot(trainx,trainy)\n",
    "plt.show()"
   ]
  },
  {
   "cell_type": "markdown",
   "metadata": {},
   "source": [
    "Function to Normalize data"
   ]
  },
  {
   "cell_type": "code",
   "execution_count": 144,
   "metadata": {
    "collapsed": true
   },
   "outputs": [],
   "source": [
    "def norm(x):\n",
    "    n=x-np.mean(x)\n",
    "    n=n/np.std(x)\n",
    "    return n"
   ]
  },
  {
   "cell_type": "markdown",
   "metadata": {},
   "source": [
    "Below Function returns polynomial basis matrix for the given data x and polynomial degree n"
   ]
  },
  {
   "cell_type": "code",
   "execution_count": 145,
   "metadata": {
    "collapsed": true
   },
   "outputs": [],
   "source": [
    "def polybasis(x,n):\n",
    "    p=[]\n",
    "    for i in range(n):\n",
    "        p.append(x**i)\n",
    "    return np.asarray(p).reshape([len(x),n])"
   ]
  },
  {
   "cell_type": "code",
   "execution_count": 146,
   "metadata": {
    "collapsed": false
   },
   "outputs": [
    {
     "name": "stdout",
     "output_type": "stream",
     "text": [
      "[-1.64316767 -1.46059349 -1.2780193  -1.09544512 -0.91287093 -0.73029674\n",
      " -0.54772256 -0.36514837 -0.18257419  0.          0.18257419  0.36514837\n",
      "  0.54772256  0.73029674  0.91287093  1.09544512  1.2780193   1.46059349\n",
      "  1.64316767]\n"
     ]
    },
    {
     "data": {
      "text/plain": [
       "(19, 15)"
      ]
     },
     "execution_count": 146,
     "metadata": {},
     "output_type": "execute_result"
    }
   ],
   "source": [
    "print(norm(x))\n",
    "polybasis(norm(x),15).shape"
   ]
  },
  {
   "cell_type": "code",
   "execution_count": 147,
   "metadata": {
    "collapsed": true
   },
   "outputs": [],
   "source": [
    "def error(y,pred):\n",
    "    m=(pred-y)**2\n",
    "    return sum(m)/len(y)"
   ]
  },
  {
   "cell_type": "code",
   "execution_count": 170,
   "metadata": {
    "collapsed": true
   },
   "outputs": [],
   "source": [
    "def poly_regressorhelp(phi,y,l,n):\n",
    "    I=np.eye(n)\n",
    "    i=inv(l*I+np.dot(phi.T,phi))\n",
    "    w=np.dot(i,np.dot(phi.T,y))\n",
    "    return w"
   ]
  },
  {
   "cell_type": "code",
   "execution_count": 199,
   "metadata": {
    "collapsed": false
   },
   "outputs": [],
   "source": [
    "def poly_regressor(x,y,test,testl,n):\n",
    "    phi=polybasis(norm(x),n)\n",
    "    l=0\n",
    "    w=poly_regressorhelp(phi,y,l,n)\n",
    "    trainpred=np.dot(phi,w)\n",
    "    testpred=np.dot(polybasis(norm(test),n),w)\n",
    "    trainerror=error(y,trainpred)\n",
    "    testerror=error(testl,testpred)\n",
    "    print('test error:',testerror)\n",
    "    print('train error:',trainerror)\n",
    "    t = test\n",
    "    a = testl\n",
    "    b = testpred\n",
    "    plt.plot(t, a,'go-', label='true label') # plotting t, a separately \n",
    "    plt.plot(t, b, 'ro-',label='predicted label')\n",
    "    red_patch = mpatches.Patch(color='red', label='predicted label')\n",
    "    red_patch = mpatches.Patch(color='green', label='true label')\n",
    "    plt.show()\n",
    "    if(testerror>2):\n",
    "        print('Overfitting occured')\n",
    "        l_testerr=[]\n",
    "        l_trainerr=[]\n",
    "        lam=[]\n",
    "    l=500\n",
    "    w=poly_regressorhelp(phi,y,l,n)\n",
    "    trainpred=np.dot(phi,w)\n",
    "    testpred=np.dot(polybasis(norm(test),n),w)\n",
    "    trainerror=error(y,trainpred)\n",
    "    testerror=error(testl,testpred)\n",
    "    print('test error:',testerror)\n",
    "    print('train error:',trainerror)\n",
    "    t = test\n",
    "    a = testl\n",
    "    b = testpred\n",
    "    plt.plot(t, a,'go-', label='true label') # plotting t, a separately \n",
    "    plt.plot(t, b, 'ro-',label='predicted label')\n",
    "    red_patch = mpatches.Patch(color='red', label='predicted label')\n",
    "    red_patch = mpatches.Patch(color='green', label='true label')\n",
    "    plt.show()\n",
    "    \n",
    "\n",
    "        \n",
    "        "
   ]
  },
  {
   "cell_type": "code",
   "execution_count": 200,
   "metadata": {
    "collapsed": false
   },
   "outputs": [
    {
     "name": "stdout",
     "output_type": "stream",
     "text": [
      "test error: 2.59558950702\n",
      "train error: 0.423901921374\n"
     ]
    },
    {
     "data": {
      "image/png": "[encoded data removed]",
      "text/plain": [
       "<matplotlib.figure.Figure at 0x5015964208>"
      ]
     },
     "metadata": {},
     "output_type": "display_data"
    },
    {
     "name": "stdout",
     "output_type": "stream",
     "text": [
      "Overfitting occured\n",
      "test error: 1.67257580664\n",
      "train error: 0.765572320871\n"
     ]
    },
    {
     "data": {
      "image/png": "[encoded data removed]",
      "text/plain": [
       "<matplotlib.figure.Figure at 0x5015df26d8>"
      ]
     },
     "metadata": {},
     "output_type": "display_data"
    }
   ],
   "source": [
    "poly_regressor(trainx,trainy,testx,testy,3)"
   ]
  },
  {
   "cell_type": "code",
   "execution_count": 184,
   "metadata": {
    "collapsed": false
   },
   "outputs": [
    {
     "name": "stdout",
     "output_type": "stream",
     "text": [
      "10\n"
     ]
    }
   ],
   "source": [
    "print(len(testl))"
   ]
  },
  {
   "cell_type": "code",
   "execution_count": 108,
   "metadata": {
    "collapsed": false
   },
   "outputs": [],
   "source": [
    "phi=polybasis(norm(x),15)\n",
    "I=np.eye(15)\n",
    "#print(I)\n",
    "#q=np.dot(phi.transpose(),y)\n",
    "#w=np.dot(inv(np.dot(phi.transpose(),phi)),q)\n"
   ]
  },
  {
   "cell_type": "code",
   "execution_count": 109,
   "metadata": {
    "collapsed": false
   },
   "outputs": [
    {
     "name": "stdout",
     "output_type": "stream",
     "text": [
      "(15, 15)\n",
      "(15,)\n",
      "(19, 15)\n"
     ]
    }
   ],
   "source": [
    "i=inv(100*I+np.dot(phi.T,phi))\n",
    "print(i.shape)\n",
    "w=np.dot(i,np.dot(phi.T,y))\n",
    "print(w.shape)\n",
    "print(phi.shape)"
   ]
  },
  {
   "cell_type": "code",
   "execution_count": 110,
   "metadata": {
    "collapsed": false
   },
   "outputs": [
    {
     "name": "stdout",
     "output_type": "stream",
     "text": [
      "[ -1.07510507e+00  -3.82717210e-01  -1.10802496e-01  -9.06588642e-02\n",
      "  -9.16981805e-01  -1.01899984e+00  -8.85056210e-02   3.63978500e-01\n",
      "   2.42153850e-01   1.78863817e+00   1.87873911e-01   6.96806535e-03\n",
      "  -4.38019414e-02   2.97442677e-02  -1.96781313e-01  -1.64022959e-03\n",
      "   1.53831005e-03  -4.12964731e-05   5.02450466e-03]\n",
      "[  1.15585090e+00   1.46472463e-01   1.22771931e-02   8.21902965e-03\n",
      "   8.40855630e-01   1.03836067e+00   7.83324495e-03   1.32480348e-01\n",
      "   5.86384870e-02   3.19922652e+00   3.52966066e-02   4.85539347e-05\n",
      "   1.91861007e-03   8.84721460e-04   3.87228850e-02   2.69035311e-06\n",
      "   2.36639780e-06   1.70539869e-09   2.52456471e-05]\n"
     ]
    },
    {
     "data": {
      "text/plain": [
       "0.35142716676743496"
      ]
     },
     "execution_count": 110,
     "metadata": {},
     "output_type": "execute_result"
    }
   ],
   "source": [
    "pred=np.dot(phi,w)\n",
    "print(pred-y)\n",
    "m=(pred-y)**2\n",
    "print(m)\n",
    "sum(m)/19"
   ]
  },
  {
   "cell_type": "code",
   "execution_count": 138,
   "metadata": {
    "collapsed": false
   },
   "outputs": [
    {
     "name": "stdout",
     "output_type": "stream",
     "text": [
      "32.0967500859\n",
      "[-0.13593904907597776, -1.4274250201959384, -1.9999510329453405, -1.408285195021826, -0.11239391066343796, 0.924880914512273, 1.0670863591552813, 0.5116456178177848, 0.028001489381303757, 0.18683752583568258]\n",
      "[  0.08119951   1.3868133    2.0097302    1.6243651   -1.00572312\n",
      "  -1.04020461   0.36940769   2.11317445 -17.2642988   -2.75836782]\n",
      "[  6.59336030e-03   1.92325112e+00   4.03901547e+00   2.63856198e+00\n",
      "   1.01147900e+00   1.08202563e+00   1.36462041e-01   4.46550624e+00\n",
      "   2.98056013e+02   7.60859305e+00]\n"
     ]
    },
    {
     "data": {
      "text/plain": [
       "16.893026361021196"
      ]
     },
     "execution_count": 138,
     "metadata": {},
     "output_type": "execute_result"
    }
   ],
   "source": [
    "test=np.arange(20,30)\n",
    "pred=np.dot(polybasis(norm(test),15),w)\n",
    "testl=[fun_y(val) for val in test]\n",
    "print(error(testl,pred))\n",
    "print(testl)\n",
    "print(pred-testl)\n",
    "m=(pred-testl)**2\n",
    "print(m)\n",
    "sum(m)/19"
   ]
  },
  {
   "cell_type": "code",
   "execution_count": 36,
   "metadata": {
    "collapsed": false
   },
   "outputs": [
    {
     "name": "stdout",
     "output_type": "stream",
     "text": [
      "(10,)\n"
     ]
    }
   ],
   "source": [
    "print(w.shape)"
   ]
  },
  {
   "cell_type": "code",
   "execution_count": 11,
   "metadata": {
    "collapsed": true
   },
   "outputs": [],
   "source": [
    "#test=np.arange(20,30)\n",
    "test=x"
   ]
  },
  {
   "cell_type": "code",
   "execution_count": 12,
   "metadata": {
    "collapsed": false
   },
   "outputs": [],
   "source": [
    "pred=np.dot(polybasis(test),w)\n",
    "testy=[fun_y(val) for val in test]"
   ]
  },
  {
   "cell_type": "code",
   "execution_count": 27,
   "metadata": {
    "collapsed": false
   },
   "outputs": [
    {
     "name": "stdout",
     "output_type": "stream",
     "text": [
      "41264769.6197\n"
     ]
    }
   ],
   "source": [
    "err=np.sum(np.square(test-pred))/test.shape[0]\n",
    "print(err)"
   ]
  },
  {
   "cell_type": "code",
   "execution_count": null,
   "metadata": {
    "collapsed": true
   },
   "outputs": [],
   "source": []
  }
 ],
 "metadata": {
  "kernelspec": {
   "display_name": "Python 3",
   "language": "python",
   "name": "python3"
  },
  "language_info": {
   "codemirror_mode": {
    "name": "ipython",
    "version": 3
   },
   "file_extension": ".py",
   "mimetype": "text/x-python",
   "name": "python",
   "nbconvert_exporter": "python",
   "pygments_lexer": "ipython3",
   "version": "3.6.0"
  }
 },
 "nbformat": 4,
 "nbformat_minor": 2
}
